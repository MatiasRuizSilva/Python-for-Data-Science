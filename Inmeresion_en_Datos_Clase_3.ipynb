{
  "nbformat": 4,
  "nbformat_minor": 0,
  "metadata": {
    "colab": {
      "provenance": [],
      "authorship_tag": "ABX9TyMrWvpcp4ll/cqel55CeF2z",
      "include_colab_link": true
    },
    "kernelspec": {
      "name": "python3",
      "display_name": "Python 3"
    },
    "language_info": {
      "name": "python"
    }
  },
  "cells": [
    {
      "cell_type": "markdown",
      "metadata": {
        "id": "view-in-github",
        "colab_type": "text"
      },
      "source": [
        "<a href=\"https://colab.research.google.com/github/MatiasRuizSilva/Python-for-Data-Science/blob/main/Inmeresion_en_Datos_Clase_3.ipynb\" target=\"_parent\"><img src=\"https://colab.research.google.com/assets/colab-badge.svg\" alt=\"Open In Colab\"/></a>"
      ]
    },
    {
      "cell_type": "markdown",
      "source": [
        "#**Aula 3**"
      ],
      "metadata": {
        "id": "Wwyv8Oxhgw2K"
      }
    },
    {
      "cell_type": "code",
      "source": [],
      "metadata": {
        "id": "GiAfL_0OlNIk"
      },
      "execution_count": null,
      "outputs": []
    }
  ]
}